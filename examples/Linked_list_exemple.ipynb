{
 "cells": [
  {
   "cell_type": "code",
   "execution_count": 1,
   "id": "75de70c3",
   "metadata": {},
   "outputs": [],
   "source": [
    "import sys\n",
    "sys.path.append(\"..\")"
   ]
  },
  {
   "cell_type": "code",
   "execution_count": 2,
   "id": "2a97f080",
   "metadata": {},
   "outputs": [
    {
     "name": "stdout",
     "output_type": "stream",
     "text": [
      "5->4->3->2->1->None\n",
      "5->4->3->2->None\n",
      "7->4->3->2->None\n"
     ]
    }
   ],
   "source": [
    "from tiana_data_structures.linked_list import LinkedList\n",
    "\n",
    "my_list = LinkedList()\n",
    "my_list.add_Node(1)\n",
    "my_list.add_Node(2)\n",
    "my_list.add_Node(3)\n",
    "my_list.add_Node(4)\n",
    "my_list.add_Node(5)\n",
    "my_list.display()\n",
    "my_list.delete_Node(1,4)\n",
    "my_list.display()\n",
    "my_list.search(3)\n",
    "my_list.update(5,7)\n",
    "my_list.display()\n"
   ]
  }
 ],
 "metadata": {
  "kernelspec": {
   "display_name": "Python 3",
   "language": "python",
   "name": "python3"
  },
  "language_info": {
   "codemirror_mode": {
    "name": "ipython",
    "version": 3
   },
   "file_extension": ".py",
   "mimetype": "text/x-python",
   "name": "python",
   "nbconvert_exporter": "python",
   "pygments_lexer": "ipython3",
   "version": "3.9.6"
  }
 },
 "nbformat": 4,
 "nbformat_minor": 5
}
