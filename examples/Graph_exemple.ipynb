{
 "cells": [
  {
   "cell_type": "code",
   "execution_count": 2,
   "id": "3957af5e",
   "metadata": {},
   "outputs": [],
   "source": [
    "import sys\n",
    "sys.path.append(\"..\")"
   ]
  },
  {
   "cell_type": "code",
   "execution_count": 3,
   "id": "48ae39a3",
   "metadata": {},
   "outputs": [
    {
     "name": "stdout",
     "output_type": "stream",
     "text": [
      "A: ['B']\n",
      "B: ['A', 'C']\n",
      "C: ['B']\n"
     ]
    }
   ],
   "source": [
    "from tiana_data_structures.graph import Graph\n",
    "\n",
    "my_graph = Graph()\n",
    "my_graph.add_node(\"A\")\n",
    "my_graph.add_node(\"B\")\n",
    "my_graph.add_edge(\"A\", \"B\")\n",
    "my_graph.add_edge(\"B\", \"C\")\n",
    "my_graph.display()"
   ]
  }
 ],
 "metadata": {
  "kernelspec": {
   "display_name": "Python 3",
   "language": "python",
   "name": "python3"
  },
  "language_info": {
   "codemirror_mode": {
    "name": "ipython",
    "version": 3
   },
   "file_extension": ".py",
   "mimetype": "text/x-python",
   "name": "python",
   "nbconvert_exporter": "python",
   "pygments_lexer": "ipython3",
   "version": "3.9.6"
  }
 },
 "nbformat": 4,
 "nbformat_minor": 5
}
