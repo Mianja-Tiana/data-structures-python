{
 "cells": [
  {
   "cell_type": "code",
   "execution_count": 1,
   "id": "d84fe72e",
   "metadata": {},
   "outputs": [],
   "source": [
    "import sys\n",
    "sys.path.append(\"..\")"
   ]
  },
  {
   "cell_type": "code",
   "execution_count": 2,
   "id": "4de2bb49",
   "metadata": {},
   "outputs": [
    {
     "name": "stdout",
     "output_type": "stream",
     "text": [
      "This is our File :--> 5--> 4--> 3--> 6--> 7\n",
      "Length of the queue: 5\n",
      "This is our File :--> 4--> 3--> 6--> 7\n",
      "Length of the queue: 4\n",
      "Is queue empty? False\n",
      "Queue size: 4\n"
     ]
    }
   ],
   "source": [
    "from tiana_data_structures.queue import Queue\n",
    "\n",
    "my_queue = Queue()\n",
    "my_queue.enqueue(5)\n",
    "my_queue.enqueue(4)\n",
    "my_queue.enqueue(3)\n",
    "my_queue.enqueue(6)\n",
    "my_queue.enqueue(7)\n",
    "my_queue.display()\n",
    "my_queue.dequeue()\n",
    "my_queue.display()\n",
    "print(f\"Is queue empty? {my_queue.is_empty()}\")\n",
    "print(f\"Queue size: {my_queue.size()}\")\n"
   ]
  }
 ],
 "metadata": {
  "kernelspec": {
   "display_name": "Python 3",
   "language": "python",
   "name": "python3"
  },
  "language_info": {
   "codemirror_mode": {
    "name": "ipython",
    "version": 3
   },
   "file_extension": ".py",
   "mimetype": "text/x-python",
   "name": "python",
   "nbconvert_exporter": "python",
   "pygments_lexer": "ipython3",
   "version": "3.9.6"
  }
 },
 "nbformat": 4,
 "nbformat_minor": 5
}
