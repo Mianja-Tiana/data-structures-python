{
 "cells": [
  {
   "cell_type": "code",
   "execution_count": 1,
   "id": "86b6c1ea",
   "metadata": {},
   "outputs": [],
   "source": [
    "import sys\n",
    "sys.path.append(\"..\")"
   ]
  },
  {
   "cell_type": "code",
   "execution_count": 4,
   "id": "b70136fe",
   "metadata": {},
   "outputs": [
    {
     "name": "stdout",
     "output_type": "stream",
     "text": [
      "This is our Stack\n",
      "[3, 2, 8]\n",
      "This is our Stack\n",
      "[3, 2]\n",
      " The top is :\n",
      "Top:  2\n",
      "Size:  2\n"
     ]
    }
   ],
   "source": [
    "from tiana_data_structures.stack import Stack\n",
    "\n",
    "my_stack = Stack()\n",
    "my_stack.push(3)\n",
    "my_stack.push(2)\n",
    "my_stack.push(8)\n",
    "my_stack.display()\n",
    "my_stack.pop()\n",
    "my_stack.display()\n",
    "print(\"Top: \",my_stack.top())\n",
    "print(\"Size: \",my_stack.size())"
   ]
  }
 ],
 "metadata": {
  "kernelspec": {
   "display_name": "Python 3",
   "language": "python",
   "name": "python3"
  },
  "language_info": {
   "codemirror_mode": {
    "name": "ipython",
    "version": 3
   },
   "file_extension": ".py",
   "mimetype": "text/x-python",
   "name": "python",
   "nbconvert_exporter": "python",
   "pygments_lexer": "ipython3",
   "version": "3.9.6"
  }
 },
 "nbformat": 4,
 "nbformat_minor": 5
}
